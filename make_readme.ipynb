{
 "cells": [
  {
   "cell_type": "code",
   "execution_count": 12,
   "metadata": {
    "collapsed": true
   },
   "outputs": [],
   "source": [
    "import yaml\n",
    "import snakemd\n",
    "from snakemd import Table\n",
    "import os"
   ]
  },
  {
   "cell_type": "code",
   "execution_count": 45,
   "metadata": {},
   "outputs": [],
   "source": [
    "def _decorate_element(ele, dtype):\n",
    "    if dtype == 'notes':\n",
    "        return f'[note]({ele})'\n",
    "    elif dtype == 'url':\n",
    "        return f'[url]({ele})'\n",
    "    else:\n",
    "        return ele\n"
   ]
  },
  {
   "cell_type": "code",
   "execution_count": 46,
   "metadata": {},
   "outputs": [],
   "source": [
    "def dict_to_table(d):\n",
    "    title_list = []\n",
    "    lines = []\n",
    "    if isinstance(d, dict):\n",
    "        elements = []\n",
    "        for k, v in d.items():\n",
    "            title_list.append(k)\n",
    "            elements.append(_decorate_element(v,k))\n",
    "        lines.append(elements)\n",
    "    elif isinstance(d, list):\n",
    "        for i in d:\n",
    "            elements = []\n",
    "            if len(title_list) ==0:\n",
    "                for k,v in i.items():\n",
    "                    title_list.append(k)\n",
    "                    elements.append(_decorate_element(v,k))\n",
    "            else:\n",
    "                for k,v in i.items():\n",
    "                    elements.append(_decorate_element(v,k))\n",
    "            lines.append(elements)\n",
    "    return title_list, lines"
   ]
  },
  {
   "cell_type": "code",
   "execution_count": 47,
   "metadata": {
    "collapsed": false
   },
   "outputs": [],
   "source": [
    "with open('record.yml','r') as f:\n",
    "    d=yaml.safe_load(f)"
   ]
  },
  {
   "cell_type": "code",
   "execution_count": 50,
   "metadata": {},
   "outputs": [
    {
     "name": "stdout",
     "output_type": "stream",
     "text": [
      "1. [Video](#video)\n",
      "   1. [Deep Learning](#deep-learning)\n",
      "2. [Paper](#paper)\n",
      "   1. [Nanopore DRS](#nanopore-drs)\n",
      "\n",
      "# Reading LIst\n",
      "\n",
      "---\n",
      "\n",
      "The reason why I want to create this repository is that I need to record something that I have read but easily forget. I hope I could learn something not matter from reading a book or a paper or just watching a video from youtube or bilibili. I haven't decided how to maintain this repository but have decided to start first.\n",
      "\n",
      "## Video\n",
      "\n",
      "### Deep Learning\n",
      "\n",
      "| id1 | title                                    | url                                                                                   | stars | tags                                   | notes                                                          | date       |\n",
      "| --- | ---------------------------------------- | ------------------------------------------------------------------------------------- | ----- | -------------------------------------- | -------------------------------------------------------------- | ---------- |\n",
      "| 1   | Deep Learning With PyTorch - Full Course | [url](https://www.youtube.com/watch?v=c36lUUr864M&t=15441s&ab_channel=PythonEngineer) | 5     | ['deep learning', 'pytorch', 'python'] | [note](Notes/videos/Deep-Learning-With-PyTorch-Full-Course.md) | 06-09-2022 |\n",
      "\n",
      "## Paper\n",
      "\n",
      "### Nanopore DRS\n",
      "\n",
      "| id | title                                                                                                                                                                                                                | url                                                                       | stars | tags                       | notes                                                       | date       |\n",
      "| -- | -------------------------------------------------------------------------------------------------------------------------------------------------------------------------------------------------------------------- | ------------------------------------------------------------------------- | ----- | -------------------------- | ----------------------------------------------------------- | ---------- |\n",
      "| 1  | Nguyen, T. A. et al. Direct identification of A-to-I editing sites with nanopore native RNA sequencing. Nat Methods 19, 833–844 (2022).                                                                              | [url](https://www.nature.com/articles/s41592-022-01513-3)                 | 5     | ['nanopore', 'RNA', 'DRS'] | [note](Notes/papers/Nanopore-DRS.md)                        | 02-09-2022 |\n",
      "| 2  | Ding, H., Bailey, A. D., Jain, M., Olsen, H. & Paten, B. Gaussian mixture model-based unsupervised nucleotide modification number detection using nanopore-sequencing readouts. Bioinformatics 36, 4928–4934 (2020). | [url](https://academic.oup.com/bioinformatics/article/36/19/4928/5864718) | 2     | ['nanopore', 'RNA']        | [note](Notes/Literatures/10.1093/bioinformatics/btaa601.md) | 04-09-2022 |\n"
     ]
    }
   ],
   "source": [
    "doc = snakemd.new_doc('README')\n",
    "doc.add_table_of_contents(range(2,4))\n",
    "doc.add_header('Reading LIst',1)\n",
    "doc.add_horizontal_rule()\n",
    "doc.add_paragraph(\n",
    "    open('introduction.md').read()\n",
    ")\n",
    "for k in d.keys():\n",
    "    doc.add_header(k,2)\n",
    "    for k2 in d[k]:\n",
    "        doc.add_header(k2,3)\n",
    "        title_list, lines = dict_to_table(d[k][k2])\n",
    "        doc.add_table(\n",
    "            title_list,\n",
    "            lines,\n",
    "        )\n",
    "print(doc)"
   ]
  },
  {
   "cell_type": "code",
   "execution_count": 51,
   "metadata": {},
   "outputs": [],
   "source": [
    "doc.output_page()"
   ]
  },
  {
   "cell_type": "code",
   "execution_count": null,
   "metadata": {},
   "outputs": [],
   "source": []
  }
 ],
 "metadata": {
  "kernelspec": {
   "display_name": "Python 3.10.6 ('venv': venv)",
   "language": "python",
   "name": "python3"
  },
  "language_info": {
   "codemirror_mode": {
    "name": "ipython",
    "version": 3
   },
   "file_extension": ".py",
   "mimetype": "text/x-python",
   "name": "python",
   "nbconvert_exporter": "python",
   "pygments_lexer": "ipython3",
   "version": "3.10.6"
  },
  "vscode": {
   "interpreter": {
    "hash": "6c8f5444e11a09125fb8509c6156a9ccfcfa6fa9841601dbdf60e1c4e10f93eb"
   }
  }
 },
 "nbformat": 4,
 "nbformat_minor": 0
}
